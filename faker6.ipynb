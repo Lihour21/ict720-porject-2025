{
 "cells": [
  {
   "cell_type": "code",
   "execution_count": 15,
   "metadata": {},
   "outputs": [],
   "source": [
    "import paho.mqtt.client as mqtt\n",
    "import random\n",
    "import os\n",
    "\n",
    "from datetime import datetime, time, timedelta\n",
    "from pymongo import MongoClient\n",
    "from pymongo.errors import ServerSelectionTimeoutError, PyMongoError\n",
    "from dotenv import load_dotenv\n",
    "\n",
    "load_dotenv()\n",
    "\n",
    "MONGO_URI = os.getenv(\"MONGO_URI\")\n",
    "\n",
    "mongo_client = MongoClient(MONGO_URI, serverSelectionTimeoutMS=5000)  # 5s timeout\n",
    "db = mongo_client[\"Cluster0\"]\n",
    "collection = db[\"distance_data\"]"
   ]
  },
  {
   "cell_type": "code",
   "execution_count": 9,
   "metadata": {},
   "outputs": [],
   "source": [
    "floors = ['floor1', 'floor2', 'floor3', 'floor4', 'floor5']\n",
    "rooms = ['room1', 'room2', 'room3', 'room4', 'room5']\n",
    "\n",
    "day_now = datetime.now()\n",
    "t800 = datetime.combine(day_now, time(8, 0))"
   ]
  },
  {
   "cell_type": "code",
   "execution_count": 34,
   "metadata": {},
   "outputs": [],
   "source": [
    "for i in range(5):\n",
    "    t800 += timedelta(minutes=20 * i)\n",
    "    tx = t800\n",
    "\n",
    "    for j in floors:\n",
    "        for k in rooms:\n",
    "            tx += timedelta(milliseconds=random.randint(1, 999))\n",
    "            d20 = random.randint(1, 20)\n",
    "\n",
    "            if d20 >= 18:\n",
    "                rst = 1\n",
    "                tsi = 100.0\n",
    "\n",
    "            else:\n",
    "                rst = 0\n",
    "                tsi = random.uniform(0, 100)\n",
    "\n",
    "            data = {}\n",
    "            data['timestamp'] = tx.isoformat()\n",
    "            data['floor'] = j\n",
    "            data['room'] = k\n",
    "            data['tsi'] = tsi\n",
    "            data['rst'] = rst\n",
    "\n",
    "            collection.insert_one(data)"
   ]
  }
 ],
 "metadata": {
  "kernelspec": {
   "display_name": "Python 3",
   "language": "python",
   "name": "python3"
  },
  "language_info": {
   "codemirror_mode": {
    "name": "ipython",
    "version": 3
   },
   "file_extension": ".py",
   "mimetype": "text/x-python",
   "name": "python",
   "nbconvert_exporter": "python",
   "pygments_lexer": "ipython3",
   "version": "3.11.4"
  }
 },
 "nbformat": 4,
 "nbformat_minor": 2
}
